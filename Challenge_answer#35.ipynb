{
 "cells": [
  {
   "cell_type": "markdown",
   "metadata": {},
   "source": [
    "# Question One "
   ]
  },
  {
   "cell_type": "markdown",
   "metadata": {},
   "source": [
    "This project is to extract data from \"https://api.github.com/users/mbostock/repos\" and then determine which date during the week has the most commit."
   ]
  },
  {
   "cell_type": "code",
   "execution_count": 3,
   "metadata": {
    "collapsed": false
   },
   "outputs": [
    {
     "name": "stdout",
     "output_type": "stream",
     "text": [
      "The answer is Tuesday\n"
     ]
    }
   ],
   "source": [
    "#import library and module\n",
    "import requests\n",
    "from datetime import datetime\n",
    "from collections import Counter\n",
    "\n",
    "url = \"https://api.github.com/users/mbostock/repos\" #repository link\n",
    "json_data = requests.get(url).json() #parse json data\n",
    "\n",
    "L = []\n",
    "D = []\n",
    "\n",
    "#get the date of commit from updated_at keys\n",
    "for i in range(len(json_data)):\n",
    "    date1 =  json_data[i]['created_at'][:-10] \n",
    "    date2 = json_data[i]['pushed_at'][:-10]\n",
    "    date3 = json_data[i]['updated_at'][:-10]\n",
    "    L.extend([date1, date2, date3])\n",
    "    \n",
    "L = [ x for x in L if \"2016\" in x ] #select last year data (2016)\n",
    "\n",
    "#find the day of date in list L\n",
    "for i in L:  \n",
    "    d = datetime.strptime(i , '%Y-%m-%d')\n",
    "    date = datetime.strftime(d,'%A')\n",
    "    D.append(date)\n",
    "\n",
    "    \n",
    "#find the week with the greatest number of commit      \n",
    "count = Counter(D)\n",
    "MaxWeek = count.most_common()[0][0]\n",
    "print (\"The answer is \" + str(MaxWeek))"
   ]
  },
  {
   "cell_type": "markdown",
   "metadata": {},
   "source": [
    "# Question 2"
   ]
  },
  {
   "cell_type": "markdown",
   "metadata": {},
   "source": [
    "Plot the data"
   ]
  },
  {
   "cell_type": "code",
   "execution_count": 2,
   "metadata": {
    "collapsed": false
   },
   "outputs": [
    {
     "data": {
      "text/html": [
       "<div>\n",
       "<table border=\"1\" class=\"dataframe\">\n",
       "  <thead>\n",
       "    <tr style=\"text-align: right;\">\n",
       "      <th></th>\n",
       "      <th>Commit_Frequency</th>\n",
       "    </tr>\n",
       "    <tr>\n",
       "      <th>Day of Week</th>\n",
       "      <th></th>\n",
       "    </tr>\n",
       "  </thead>\n",
       "  <tbody>\n",
       "    <tr>\n",
       "      <th>Monday</th>\n",
       "      <td>8</td>\n",
       "    </tr>\n",
       "    <tr>\n",
       "      <th>Tuesday</th>\n",
       "      <td>10</td>\n",
       "    </tr>\n",
       "    <tr>\n",
       "      <th>Wednesday</th>\n",
       "      <td>3</td>\n",
       "    </tr>\n",
       "    <tr>\n",
       "      <th>Thursday</th>\n",
       "      <td>6</td>\n",
       "    </tr>\n",
       "    <tr>\n",
       "      <th>Friday</th>\n",
       "      <td>7</td>\n",
       "    </tr>\n",
       "    <tr>\n",
       "      <th>Sunday</th>\n",
       "      <td>9</td>\n",
       "    </tr>\n",
       "  </tbody>\n",
       "</table>\n",
       "</div>"
      ],
      "text/plain": [
       "             Commit_Frequency\n",
       "Day of Week                  \n",
       "Monday                      8\n",
       "Tuesday                    10\n",
       "Wednesday                   3\n",
       "Thursday                    6\n",
       "Friday                      7\n",
       "Sunday                      9"
      ]
     },
     "execution_count": 2,
     "metadata": {},
     "output_type": "execute_result"
    }
   ],
   "source": [
    "#reorder the dictionary from Monday: Sunday\n",
    "from collections import OrderedDict\n",
    "dict_count = dict(count)\n",
    "new_order= ['Monday', 'Tuesday', 'Wednesday', 'Thursday', 'Friday', 'Sunday']\n",
    "ordered_count = OrderedDict((k, dict_count[k]) for k in new_order)\n",
    "\n",
    "#Convert Dictionary to Panda Dataframe\n",
    "import pandas as pd\n",
    "df = pd.DataFrame(list(ordered_count.items()), columns=['Day of Week', 'Commit_Frequency'])\n",
    "df.set_index([\"Day of Week\"], inplace= True)\n",
    "df"
   ]
  },
  {
   "cell_type": "code",
   "execution_count": 3,
   "metadata": {
    "collapsed": false
   },
   "outputs": [
    {
     "data": {
      "image/png": "[encoded data removed]",
      "text/plain": [
       "<matplotlib.figure.Figure at 0x10d9dabe0>"
      ]
     },
     "metadata": {},
     "output_type": "display_data"
    }
   ],
   "source": [
    "import matplotlib.pyplot as plt\n",
    "ax = df['Commit_Frequency'].plot(kind='bar', figsize=(10,7), legend=True, fontsize=14)\n",
    "ax.set_xlabel(\"Day of Week\", fontsize=16)\n",
    "ax.set_ylabel(\"Frequency\", fontsize=16)\n",
    "ax.set_title(\"Day of Week vs. Frequency\", fontsize=18)\n",
    "plt.show()"
   ]
  },
  {
   "cell_type": "code",
   "execution_count": null,
   "metadata": {
    "collapsed": true
   },
   "outputs": [],
   "source": []
  }
 ],
 "metadata": {
  "anaconda-cloud": {},
  "kernelspec": {
   "display_name": "python3.5",
   "language": "python",
   "name": "python3.5"
  },
  "language_info": {
   "codemirror_mode": {
    "name": "ipython",
    "version": 3
   },
   "file_extension": ".py",
   "mimetype": "text/x-python",
   "name": "python",
   "nbconvert_exporter": "python",
   "pygments_lexer": "ipython3",
   "version": "3.5.3"
  }
 },
 "nbformat": 4,
 "nbformat_minor": 2
}
